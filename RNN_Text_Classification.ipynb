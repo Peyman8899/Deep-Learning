{
  "cells": [
    {
      "cell_type": "code",
      "execution_count": null,
      "metadata": {
        "id": "HsvCQeHhqjGh"
      },
      "outputs": [],
      "source": [
        "from IPython.core.interactiveshell import InteractiveShell\n",
        "InteractiveShell.ast_node_interactivity = \"all\"\n",
        "\n",
        "import pandas as pd\n",
        "import torch.nn as nn\n",
        "import torch.nn.functional as F\n",
        "\n",
        "from torch.utils.data import DataLoader, random_split, Subset, Dataset\n",
        "import torchvision.transforms as transforms\n",
        "\n",
        "import torchvision\n",
        "\n",
        "from numpy.random import seed\n",
        "import torch\n",
        "import numpy as np\n",
        "\n",
        "from torchinfo import summary\n",
        "import matplotlib.pyplot as plt"
      ]
    },
    {
      "cell_type": "code",
      "execution_count": null,
      "metadata": {
        "id": "mGQw_kH7qjGk",
        "outputId": "ccea2fac-1269-4a2e-b463-13f46b95fbfd"
      },
      "outputs": [
        {
          "data": {
            "text/plain": [
              "<torch._C.Generator at 0x7f8008b809b0>"
            ]
          },
          "execution_count": 3,
          "metadata": {},
          "output_type": "execute_result"
        }
      ],
      "source": [
        "# Fix random number so that your traing process can be replicated\n",
        "\n",
        "random_seed = 124\n",
        "seed(random_seed)\n",
        "\n",
        "torch.manual_seed(random_seed)\n",
        "torch.backends.cudnn.deterministic = True"
      ]
    },
    {
      "cell_type": "code",
      "execution_count": null,
      "metadata": {
        "id": "j1A-feSPqjGu"
      },
      "outputs": [],
      "source": [
        "import pandas as pd\n",
        "from sklearn.utils import shuffle\n"
      ]
    },
    {
      "cell_type": "code",
      "execution_count": null,
      "metadata": {
        "id": "KdHwWAy-qjGv",
        "outputId": "b28c60f3-417d-4324-ec6a-adcf601cf4ad"
      },
      "outputs": [
        {
          "data": {
            "text/html": [
              "<div>\n",
              "<style scoped>\n",
              "    .dataframe tbody tr th:only-of-type {\n",
              "        vertical-align: middle;\n",
              "    }\n",
              "\n",
              "    .dataframe tbody tr th {\n",
              "        vertical-align: top;\n",
              "    }\n",
              "\n",
              "    .dataframe thead th {\n",
              "        text-align: right;\n",
              "    }\n",
              "</style>\n",
              "<table border=\"1\" class=\"dataframe\">\n",
              "  <thead>\n",
              "    <tr style=\"text-align: right;\">\n",
              "      <th></th>\n",
              "      <th>Text</th>\n",
              "      <th>Emotion</th>\n",
              "    </tr>\n",
              "  </thead>\n",
              "  <tbody>\n",
              "    <tr>\n",
              "      <th>0</th>\n",
              "      <td>i didnt feel humiliated</td>\n",
              "      <td>sadness</td>\n",
              "    </tr>\n",
              "    <tr>\n",
              "      <th>1</th>\n",
              "      <td>i can go from feeling so hopeless to so damned...</td>\n",
              "      <td>sadness</td>\n",
              "    </tr>\n",
              "    <tr>\n",
              "      <th>2</th>\n",
              "      <td>im grabbing a minute to post i feel greedy wrong</td>\n",
              "      <td>anger</td>\n",
              "    </tr>\n",
              "    <tr>\n",
              "      <th>3</th>\n",
              "      <td>i am ever feeling nostalgic about the fireplac...</td>\n",
              "      <td>love</td>\n",
              "    </tr>\n",
              "    <tr>\n",
              "      <th>4</th>\n",
              "      <td>i am feeling grouchy</td>\n",
              "      <td>anger</td>\n",
              "    </tr>\n",
              "  </tbody>\n",
              "</table>\n",
              "</div>"
            ],
            "text/plain": [
              "                                                Text  Emotion\n",
              "0                            i didnt feel humiliated  sadness\n",
              "1  i can go from feeling so hopeless to so damned...  sadness\n",
              "2   im grabbing a minute to post i feel greedy wrong    anger\n",
              "3  i am ever feeling nostalgic about the fireplac...     love\n",
              "4                               i am feeling grouchy    anger"
            ]
          },
          "execution_count": 70,
          "metadata": {},
          "output_type": "execute_result"
        },
        {
          "data": {
            "text/plain": [
              "21459"
            ]
          },
          "execution_count": 70,
          "metadata": {},
          "output_type": "execute_result"
        }
      ],
      "source": [
        "data = pd.read_csv(\"Emotion_final.csv\")\n",
        "data.head()\n",
        "len(data)\n",
        "\n",
        "data = shuffle(data)"
      ]
    },
    {
      "cell_type": "code",
      "execution_count": null,
      "metadata": {
        "id": "zWbkH2k_qjGy",
        "outputId": "456f0d97-6db2-44f1-eca5-9375991ed984"
      },
      "outputs": [
        {
          "data": {
            "text/html": [
              "<div>\n",
              "<style scoped>\n",
              "    .dataframe tbody tr th:only-of-type {\n",
              "        vertical-align: middle;\n",
              "    }\n",
              "\n",
              "    .dataframe tbody tr th {\n",
              "        vertical-align: top;\n",
              "    }\n",
              "\n",
              "    .dataframe thead th {\n",
              "        text-align: right;\n",
              "    }\n",
              "</style>\n",
              "<table border=\"1\" class=\"dataframe\">\n",
              "  <thead>\n",
              "    <tr style=\"text-align: right;\">\n",
              "      <th></th>\n",
              "      <th>Text</th>\n",
              "      <th>Emotion</th>\n",
              "      <th>label</th>\n",
              "    </tr>\n",
              "  </thead>\n",
              "  <tbody>\n",
              "    <tr>\n",
              "      <th>15620</th>\n",
              "      <td>lost my girlfriend</td>\n",
              "      <td>sadness</td>\n",
              "      <td>4</td>\n",
              "    </tr>\n",
              "    <tr>\n",
              "      <th>432</th>\n",
              "      <td>i were feeling energetic so we decided we were...</td>\n",
              "      <td>happy</td>\n",
              "      <td>1</td>\n",
              "    </tr>\n",
              "    <tr>\n",
              "      <th>3963</th>\n",
              "      <td>i should just leave him be so he could go on h...</td>\n",
              "      <td>sadness</td>\n",
              "      <td>4</td>\n",
              "    </tr>\n",
              "    <tr>\n",
              "      <th>17564</th>\n",
              "      <td>i feel drained and i am physically sore from t...</td>\n",
              "      <td>sadness</td>\n",
              "      <td>4</td>\n",
              "    </tr>\n",
              "    <tr>\n",
              "      <th>3018</th>\n",
              "      <td>i nodded proud of my decision to procure a pum...</td>\n",
              "      <td>happy</td>\n",
              "      <td>1</td>\n",
              "    </tr>\n",
              "  </tbody>\n",
              "</table>\n",
              "</div>"
            ],
            "text/plain": [
              "                                                    Text  Emotion  label\n",
              "15620                                 lost my girlfriend  sadness      4\n",
              "432    i were feeling energetic so we decided we were...    happy      1\n",
              "3963   i should just leave him be so he could go on h...  sadness      4\n",
              "17564  i feel drained and i am physically sore from t...  sadness      4\n",
              "3018   i nodded proud of my decision to procure a pum...    happy      1"
            ]
          },
          "execution_count": 71,
          "metadata": {},
          "output_type": "execute_result"
        },
        {
          "data": {
            "text/plain": [
              "1    7029\n",
              "4    6265\n",
              "2    2993\n",
              "0    2652\n",
              "5    1641\n",
              "3     879\n",
              "Name: label, dtype: int64"
            ]
          },
          "execution_count": 71,
          "metadata": {},
          "output_type": "execute_result"
        }
      ],
      "source": [
        "# Map text label to numbers\n",
        "\n",
        "label_map = {'fear':0, 'happy':1, 'anger':2, 'surprise':3, 'sadness':4, 'love':5}\n",
        "data[\"label\"] = data.Emotion.apply(lambda x: label_map[x])\n",
        "data.head()\n",
        "data.label.value_counts()"
      ]
    },
    {
      "cell_type": "code",
      "execution_count": null,
      "metadata": {
        "id": "iOq2pARqqjGz"
      },
      "outputs": [],
      "source": [
        "# Split dataset into training, evaluation, and test\n",
        "\n",
        "train_data = data.iloc[0: 15000]\n",
        "eval_data = data.iloc[15000: 18000]\n",
        "test_data = data.iloc[18000: ]"
      ]
    },
    {
      "cell_type": "code",
      "execution_count": null,
      "metadata": {
        "id": "09Ux_GcqqjG2",
        "outputId": "c9ab41ea-59af-4b9f-eb78-963587e1a19e"
      },
      "outputs": [
        {
          "data": {
            "text/plain": [
              "[]"
            ]
          },
          "execution_count": 73,
          "metadata": {},
          "output_type": "execute_result"
        },
        {
          "name": "stdout",
          "output_type": "stream",
          "text": [
            "15997\n"
          ]
        },
        {
          "data": {
            "text/plain": [
              "1     8393\n",
              "2     2323\n",
              "3     1115\n",
              "4      722\n",
              "5      439\n",
              "6      301\n",
              "7      260\n",
              "8      203\n",
              "9      148\n",
              "11     131\n",
              "dtype: int64"
            ]
          },
          "execution_count": 73,
          "metadata": {},
          "output_type": "execute_result"
        },
        {
          "data": {
            "image/png": "[encoded data removed]",
            "text/plain": [
              "<Figure size 432x288 with 1 Axes>"
            ]
          },
          "metadata": {
            "needs_background": "light"
          },
          "output_type": "display_data"
        }
      ],
      "source": [
        "# A few exploration steps. This plots shows the sentence length can be set to 50 \n",
        "# and vocab size can be set around 8000 \n",
        "from tensorflow import keras\n",
        "\n",
        "# check document length\n",
        "(train_data.apply(lambda row: len(row[\"Text\"].split()), axis = 1)).hist(bins = 200).plot()\n",
        "#(train_data.apply(lambda row: len(row[\"title\"].split()), axis = 1)).hist(bins = 200).plot()\n",
        "\n",
        "# check word frequencies\n",
        "tokenizer = keras.preprocessing.text.Tokenizer()\n",
        "#tokenizer.fit_on_texts(train_data[\"title\"] +\" \"+ train_data[\"text\"])\n",
        "tokenizer.fit_on_texts(train_data[\"Text\"])\n",
        "\n",
        "print(len(tokenizer.word_counts))\n",
        "word_counts = pd.Series(list(tokenizer.word_counts.values()))\n",
        "word_counts.value_counts().sort_values(ascending = False)[0:10]"
      ]
    },
    {
      "cell_type": "code",
      "execution_count": null,
      "metadata": {
        "id": "2YhtzjPYqjG4"
      },
      "outputs": [],
      "source": [
        "class News_dataset(Dataset):\n",
        "    def __init__(self, x, y):\n",
        "        self.x = torch.Tensor(x).long()\n",
        "        self.y = torch.Tensor(y).long()\n",
        "    \n",
        "    def __getitem__(self, index):\n",
        "        return self.x[index], self.y[index]\n",
        "    \n",
        "    def __len__(self):\n",
        "        return self.x.size()[0]\n"
      ]
    },
    {
      "cell_type": "code",
      "execution_count": null,
      "metadata": {
        "id": "BG0UnlVVqjG5"
      },
      "outputs": [],
      "source": [
        "def preprocess(train_data, eval_data, test_data, vocab_size = 10000, max_sent = 50):\n",
        "    \n",
        "    tokenizer = keras.preprocessing.text.Tokenizer(num_words = vocab_size)\n",
        "    tokenizer.fit_on_texts(train_data[\"Text\"])\n",
        "\n",
        "    train_seq = tokenizer.texts_to_sequences(train_data[\"Text\"])\n",
        "    train_seq = keras.preprocessing.sequence.pad_sequences(train_seq,\n",
        "                                                        value=0,\n",
        "                                                        padding='post',\n",
        "                                                        maxlen=max_sent)\n",
        "\n",
        "    eval_seq = tokenizer.texts_to_sequences(eval_data[\"Text\"])\n",
        "    eval_seq = keras.preprocessing.sequence.pad_sequences(eval_seq,\n",
        "                                                        value=0,\n",
        "                                                        padding='post',\n",
        "                                                        maxlen=max_sent)\n",
        "\n",
        "    \n",
        "    test_seq = tokenizer.texts_to_sequences(test_data[\"Text\"])\n",
        "    test_seq = keras.preprocessing.sequence.pad_sequences(test_seq,\n",
        "                                                        value=0,\n",
        "                                                        padding='post',\n",
        "                                                        maxlen=max_sent)\n",
        "\n",
        "    # dataset\n",
        "    train_dataset = News_dataset(train_seq, train_data[\"label\"].values)\n",
        "    eval_dataset = News_dataset(eval_seq, eval_data[\"label\"].values)\n",
        "    test_dataset = News_dataset(test_seq, test_data[\"label\"].values)\n",
        "    \n",
        "    return train_dataset, eval_dataset, test_dataset, tokenizer"
      ]
    },
    {
      "cell_type": "code",
      "execution_count": null,
      "metadata": {
        "id": "rFaenckSqjG7"
      },
      "outputs": [],
      "source": [
        "vocab_size = 10000\n",
        "max_sent = 50\n",
        "\n",
        "train_dataset, eval_dataset, test_dataset, tokenizer = preprocess(train_data, eval_data, test_data, \\\n",
        "                                                       vocab_size, max_sent )"
      ]
    },
    {
      "cell_type": "code",
      "execution_count": null,
      "metadata": {
        "id": "DHMkTkSTqjG8"
      },
      "outputs": [],
      "source": [
        "#tokenizer.word_index"
      ]
    },
    {
      "cell_type": "markdown",
      "metadata": {
        "id": "KcCXQ0pAqjG8"
      },
      "source": [
        "### Load pretrained word vectors "
      ]
    },
    {
      "cell_type": "code",
      "execution_count": null,
      "metadata": {
        "id": "Nyi5TmtOqjG9"
      },
      "outputs": [],
      "source": [
        "#!pip install torchtext"
      ]
    },
    {
      "cell_type": "code",
      "execution_count": null,
      "metadata": {
        "id": "3nCKaLQVqjG-"
      },
      "outputs": [],
      "source": [
        "import torchtext\n",
        "emb_dim = 100\n",
        "\n",
        "vector = torchtext.vocab.GloVe(name='6B', dim=100)"
      ]
    },
    {
      "cell_type": "code",
      "execution_count": null,
      "metadata": {
        "id": "h1nXcvdhqjG_",
        "outputId": "0a902bfa-9a44-45cf-eb60-226a34e12e47"
      },
      "outputs": [
        {
          "name": "stdout",
          "output_type": "stream",
          "text": [
            "[]\n"
          ]
        }
      ],
      "source": [
        "\n",
        "missing_words = []  # check if any word without a vector\n",
        "\n",
        "# initialize embedding matrix\n",
        "emb_weight = np.zeros((vocab_size, emb_dim))\n",
        "\n",
        "# loop through all words\n",
        "for word, idx in tokenizer.word_index.items():\n",
        "\n",
        "  # align with word index in sentences, since the first 3 indexes are reserved\n",
        "  if idx < vocab_size :  \n",
        "    try:\n",
        "      emb = vector[word]\n",
        "      emb_weight[idx] = emb    \n",
        "\n",
        "    # not every word has a vector\n",
        "    except:\n",
        "      missing_words.append(word)\n",
        "    \n",
        "print(missing_words)"
      ]
    },
    {
      "cell_type": "code",
      "execution_count": null,
      "metadata": {
        "id": "azd-ESD3qjHA",
        "outputId": "1d04ae24-68fd-4b31-9e08-7947da0ec832"
      },
      "outputs": [
        {
          "name": "stdout",
          "output_type": "stream",
          "text": [
            "[ 2.65720010e-01  3.48570012e-02  4.90550011e-01 -6.74019992e-01\n",
            "  3.28830004e-01  9.99170005e-01 -1.03050005e+00  6.94920003e-01\n",
            "  3.43580008e-01  8.57919991e-01 -4.38039988e-01 -8.18350017e-01\n",
            "  2.68680006e-01 -2.50829995e-01  1.54660001e-01 -8.32239985e-01\n",
            "  1.17270005e+00 -1.86039999e-01 -5.29290020e-01  1.76530004e-01\n",
            "  8.07470024e-01 -1.40310004e-01 -2.40310002e-02 -6.11579977e-03\n",
            " -6.02169991e-01 -6.71710014e-01  2.06980005e-01 -5.09480000e-01\n",
            " -3.29899997e-01 -3.94540012e-01 -4.59270000e-01 -2.89310008e-01\n",
            "  7.88110018e-01  4.44830000e-01 -4.86970007e-01 -2.36300007e-01\n",
            " -1.50809996e-02  1.66060001e-01 -3.41719985e-02  8.40490013e-02\n",
            " -8.60819966e-02 -9.01499987e-01 -2.01989993e-01 -5.60479999e-01\n",
            "  8.64350021e-01  3.27419996e-01  3.81839991e-01 -2.43340001e-01\n",
            "  5.97230017e-01  1.74640000e-01 -4.47560012e-01 -3.34769994e-01\n",
            "  3.24229985e-01  1.02310002e+00 -5.49459994e-01 -2.85200000e+00\n",
            " -5.76399982e-01 -3.57600003e-01  1.41040003e+00  3.07570010e-01\n",
            " -3.88520002e-01  7.43019998e-01 -4.05620009e-01  9.14790034e-02\n",
            "  1.74600005e-01 -1.92509994e-01  1.63409993e-01  1.81970000e-01\n",
            " -3.52200001e-01  2.91229993e-01 -2.83899993e-01 -7.30449975e-01\n",
            " -1.55499995e-01 -3.81379992e-01  3.93949986e-01 -4.90079999e-01\n",
            "  1.02769995e+00  2.84620002e-03 -1.43420005e+00 -1.26069993e-01\n",
            "  3.33380014e-01  4.87410009e-01 -9.97699976e-01  4.07830000e-01\n",
            " -7.95809984e-01  4.93220001e-01 -4.88029987e-01 -2.94079989e-01\n",
            "  5.71399987e-01 -4.67240006e-01  1.09870005e+00 -6.03980005e-01\n",
            " -4.66829985e-01  1.47949994e-01 -1.34150004e+00  7.18800008e-01\n",
            " -2.85890013e-01  3.91240001e-01  9.82320011e-01  6.92090020e-02]\n",
            "tensor([ 2.6572e-01,  3.4857e-02,  4.9055e-01, -6.7402e-01,  3.2883e-01,\n",
            "         9.9917e-01, -1.0305e+00,  6.9492e-01,  3.4358e-01,  8.5792e-01,\n",
            "        -4.3804e-01, -8.1835e-01,  2.6868e-01, -2.5083e-01,  1.5466e-01,\n",
            "        -8.3224e-01,  1.1727e+00, -1.8604e-01, -5.2929e-01,  1.7653e-01,\n",
            "         8.0747e-01, -1.4031e-01, -2.4031e-02, -6.1158e-03, -6.0217e-01,\n",
            "        -6.7171e-01,  2.0698e-01, -5.0948e-01, -3.2990e-01, -3.9454e-01,\n",
            "        -4.5927e-01, -2.8931e-01,  7.8811e-01,  4.4483e-01, -4.8697e-01,\n",
            "        -2.3630e-01, -1.5081e-02,  1.6606e-01, -3.4172e-02,  8.4049e-02,\n",
            "        -8.6082e-02, -9.0150e-01, -2.0199e-01, -5.6048e-01,  8.6435e-01,\n",
            "         3.2742e-01,  3.8184e-01, -2.4334e-01,  5.9723e-01,  1.7464e-01,\n",
            "        -4.4756e-01, -3.3477e-01,  3.2423e-01,  1.0231e+00, -5.4946e-01,\n",
            "        -2.8520e+00, -5.7640e-01, -3.5760e-01,  1.4104e+00,  3.0757e-01,\n",
            "        -3.8852e-01,  7.4302e-01, -4.0562e-01,  9.1479e-02,  1.7460e-01,\n",
            "        -1.9251e-01,  1.6341e-01,  1.8197e-01, -3.5220e-01,  2.9123e-01,\n",
            "        -2.8390e-01, -7.3045e-01, -1.5550e-01, -3.8138e-01,  3.9395e-01,\n",
            "        -4.9008e-01,  1.0277e+00,  2.8462e-03, -1.4342e+00, -1.2607e-01,\n",
            "         3.3338e-01,  4.8741e-01, -9.9770e-01,  4.0783e-01, -7.9581e-01,\n",
            "         4.9322e-01, -4.8803e-01, -2.9408e-01,  5.7140e-01, -4.6724e-01,\n",
            "         1.0987e+00, -6.0398e-01, -4.6683e-01,  1.4795e-01, -1.3415e+00,\n",
            "         7.1880e-01, -2.8589e-01,  3.9124e-01,  9.8232e-01,  6.9209e-02])\n"
          ]
        }
      ],
      "source": [
        "# Check alignment. These two must be the same\n",
        "\n",
        "idx = tokenizer.word_index['city']\n",
        "print(emb_weight[idx])\n",
        "\n",
        "print(vector['city'])"
      ]
    },
    {
      "cell_type": "code",
      "execution_count": null,
      "metadata": {
        "id": "EKKTydyMqjHC",
        "outputId": "b576cc32-f985-4503-e7a0-6e0e3e5f4c26"
      },
      "outputs": [
        {
          "name": "stdout",
          "output_type": "stream",
          "text": [
            "torch.Size([10000, 100])\n"
          ]
        }
      ],
      "source": [
        "emb_matrix = torch.Tensor(emb_weight)\n",
        "print(emb_matrix.shape)"
      ]
    },
    {
      "cell_type": "markdown",
      "metadata": {
        "id": "MNGxFMJwqjHF"
      },
      "source": [
        "#### Model Definition"
      ]
    },
    {
      "cell_type": "code",
      "execution_count": null,
      "metadata": {
        "id": "ROl7eIuyqjHG"
      },
      "outputs": [],
      "source": [
        "class rnn_text(nn.Module):\n",
        "\n",
        "    # define all the layers used in model\n",
        "    def __init__(self, vocab_size, emb_dim, num_classes, hidden_units , \\\n",
        "                 num_layers = 1,  bidirectional = False, \\\n",
        "                 emb_weight = None, freeze = False, dropout_rate = 0.5):\n",
        "      \n",
        "        super(rnn_text, self).__init__()\n",
        "        \n",
        "        self.emb_dim = emb_dim\n",
        "        \n",
        "        self.num_layers = num_layers\n",
        "        self.hidden_units = hidden_units\n",
        "        self.bidirectional = bidirectional\n",
        "        self.num_classes = num_classes\n",
        "       \n",
        "        if emb_weight is None:      \n",
        "            self.embedding = nn.Embedding(vocab_size, emb_dim, padding_idx = 0)\n",
        "        else:\n",
        "            self.embedding = nn.Embedding.from_pretrained(emb_weight, freeze=freeze)\n",
        "        \n",
        "        self.rnn = nn.LSTM(input_size = self.emb_dim, hidden_size = self.hidden_units,\\\n",
        "                           num_layers = self.num_layers, \\\n",
        "                           bidirectional = self.bidirectional,\\\n",
        "                           batch_first = True,\\\n",
        "                           #dropout = dropout_rate\n",
        "                          )\n",
        "        \n",
        "        feature_size = self.hidden_units * 2\n",
        "        if self.bidirectional:\n",
        "            feature_size = self.hidden_units * 4\n",
        "            \n",
        "        self.fc = nn.Linear(feature_size, self.num_classes)\n",
        "        self.dropout = nn.Dropout(dropout_rate)\n",
        "\n",
        "    def forward(self, x):\n",
        "        \n",
        "        x = self.embedding(x) # Batch x sent_len x emb_dim\n",
        "        #print(x.size())\n",
        "        #x = torch.swapaxes(x, 1, 2) # Batch x emb_dim x max_sent \n",
        "\n",
        "        x, _ = self.rnn(x)  # batch, seq_len, self.hidden_units*(2 if self.bidirectional else 0)\n",
        "        #print(x.size())\n",
        "        x = self.dropout(x)\n",
        "        x = torch.cat([x[:,-1,:],x[:,0,:]], dim = -1)\n",
        "        \n",
        "        logit = self.fc(x)  \n",
        "\n",
        "        return logit"
      ]
    },
    {
      "cell_type": "code",
      "execution_count": null,
      "metadata": {
        "id": "mywHUYU1qjHH",
        "outputId": "ccc4686e-1173-481d-d9aa-407f2609955e"
      },
      "outputs": [
        {
          "name": "stdout",
          "output_type": "stream",
          "text": [
            "rnn_text(\n",
            "  (embedding): Embedding(10000, 100, padding_idx=0)\n",
            "  (rnn): LSTM(100, 100, batch_first=True, bidirectional=True)\n",
            "  (fc): Linear(in_features=400, out_features=6, bias=True)\n",
            "  (dropout): Dropout(p=0.5, inplace=False)\n",
            ")\n"
          ]
        }
      ],
      "source": [
        "from torchsummary import summary\n",
        "model = rnn_text(10000, 100, 6, 100 , \\\n",
        "                 num_layers = 1,  bidirectional = True, \\\n",
        "                 emb_weight = None, freeze = False, dropout_rate = 0.5)\n",
        "                 \n",
        "                \n",
        "#summary(model, (16,50))\n",
        "print(model)"
      ]
    },
    {
      "cell_type": "markdown",
      "metadata": {
        "id": "FxKg66qTqjHI"
      },
      "source": [
        "#### Training function"
      ]
    },
    {
      "cell_type": "code",
      "execution_count": null,
      "metadata": {
        "id": "nC771N_dqjHJ"
      },
      "outputs": [],
      "source": [
        "from sklearn.metrics import classification_report\n",
        "\n",
        "def train_model(model, train_dataset, eval_dataset,  device, \n",
        "                optimizer, epochs=30, batch_size=64):\n",
        "    \n",
        "    # construct dataloader\n",
        "    train_loader = DataLoader(train_dataset, batch_size=batch_size, shuffle=True)\n",
        "    eval_loader = DataLoader(eval_dataset, batch_size=batch_size, shuffle=False)\n",
        "    #test_loader = DataLoader(test_dataset, batch_size=batch_size, shuffle=False)\n",
        "\n",
        "    # move model to device\n",
        "    model = model.to(device)\n",
        "\n",
        "    # history\n",
        "    history = {'train_loss': [],\n",
        "               'train_acc': [],\n",
        "               'val_loss': [],\n",
        "               'val_acc': [],\n",
        "               'test_acc': 0}\n",
        "    \n",
        "    patience = 10\n",
        "    max_acc = -np.Inf\n",
        "    cnt = 0\n",
        "    \n",
        "    # setup loss function and optimizer\n",
        "    criterion = nn.CrossEntropyLoss()\n",
        "    #optimizer = torch.optim.RMSprop(model.parameters(), lr=lr)\n",
        "\n",
        "    # training loop\n",
        "    print('Training Start')\n",
        "    for epoch in range(epochs):\n",
        "        model.train()\n",
        "        train_loss = 0\n",
        "        train_acc = 0\n",
        "        test_loss = 0\n",
        "        test_acc = 0\n",
        "        \n",
        "        for x, y in train_loader:\n",
        "            \n",
        "            # move data to device\n",
        "            x = x.to(device)\n",
        "            y = y.to(device)\n",
        "            \n",
        "            # forward\n",
        "            outputs = model(x)  # (num_batch, 45) \n",
        "            _, pred = torch.max(outputs, dim = -1)\n",
        "            cur_train_loss = criterion(outputs, y)\n",
        "            cur_train_acc = (pred == y).float().mean().item()\n",
        "            \n",
        "            # backward\n",
        "            cur_train_loss.backward()\n",
        "            optimizer.step()\n",
        "            optimizer.zero_grad()\n",
        "            # loss and acc\n",
        "            train_loss += cur_train_loss\n",
        "            train_acc += cur_train_acc\n",
        "\n",
        "        # test start\n",
        "        model.eval()\n",
        "        with torch.no_grad():\n",
        "            for x, y in eval_loader:\n",
        "                # move\n",
        "                x = x.to(device)\n",
        "                y = y.to(device)\n",
        "                # predict\n",
        "                \n",
        "                outputs = model(x)  # (num_batch, 45) \n",
        "                _, pred = torch.max(outputs, dim = -1)\n",
        "                cur_test_loss = criterion(outputs, y)\n",
        "                cur_test_acc = (pred == y).float().mean().item() \n",
        "                # loss and acc\n",
        "                test_loss += cur_test_loss\n",
        "                test_acc += cur_test_acc\n",
        "\n",
        "        # epoch output\n",
        "        train_loss = (train_loss/len(train_loader)).item()\n",
        "        train_acc = train_acc/len(train_loader)\n",
        "        val_loss = (test_loss/len(eval_loader)).item()\n",
        "        val_acc = test_acc/len(eval_loader)\n",
        "        history['train_loss'].append(train_loss)\n",
        "        history['train_acc'].append(train_acc)\n",
        "        history['val_loss'].append(val_loss)\n",
        "        history['val_acc'].append(val_acc)\n",
        "        print(f\"Epoch:{epoch + 1} / {epochs}, train loss:{train_loss:.4f},\\\n",
        "        train_acc:{train_acc:.4f}, valid loss:{val_loss:.4f} valid acc:{val_acc:.4f}\")\n",
        "        \n",
        "        if test_acc > max_acc:\n",
        "            max_acc = test_acc\n",
        "            cnt = 0\n",
        "            torch.save(model.state_dict(), \"best_model.pth\")\n",
        "            print(\"model saved!\")\n",
        "        else:\n",
        "            cnt += 1\n",
        "            \n",
        "            if cnt == patience:\n",
        "                print(\"early stopping!\")\n",
        "                break\n",
        "    \n",
        "    # restore best model\n",
        "    model.load_state_dict(torch.load(\"best_model.pth\"))\n",
        "    \n",
        "    return model, history"
      ]
    },
    {
      "cell_type": "code",
      "execution_count": null,
      "metadata": {
        "id": "4sdoHxI6qjHL"
      },
      "outputs": [],
      "source": [
        "def test_model(model, test_dataset, batch_size = 64):    # get test performance\n",
        "    \n",
        "    test_loader = DataLoader(test_dataset, batch_size=batch_size, shuffle=False)\n",
        "    \n",
        "    test_acc = 0\n",
        "    ys = []\n",
        "    preds = []\n",
        "    \n",
        "    model.eval()\n",
        "    with torch.no_grad():\n",
        "        for x, y in test_loader:\n",
        "            # move\n",
        "            x = x.to(device)\n",
        "            y = y.to(device)\n",
        "            # predict\n",
        "            outputs = model(x)\n",
        "            _, pred = torch.max(outputs, dim = -1)\n",
        "            \n",
        "            ys.append(y.cpu().numpy())\n",
        "            preds.append(pred.cpu().numpy())\n",
        "    \n",
        "    ys = np.concatenate(ys)\n",
        "    preds = np.concatenate(preds)\n",
        "    \n",
        "    test_acc = (preds == ys).astype(int).mean()\n",
        "    print(classification_report(ys, preds))\n",
        "        \n",
        "    print(f\"Test acc: {test_acc:.4f}\")\n",
        "    \n",
        "    return test_acc"
      ]
    },
    {
      "cell_type": "code",
      "execution_count": null,
      "metadata": {
        "id": "wWiiad9TqjHN"
      },
      "outputs": [],
      "source": [
        "def get_plot(hist_list, labels, epochs):\n",
        "    \n",
        "    colors = ['red',\"blue\",\"green\",\"orange\"]\n",
        "    \n",
        "    fig, ax = plt.subplots(1,2, figsize=(16,4))\n",
        "    for i, hist in enumerate(hist_list):\n",
        "        ax[0].plot(range(len(hist['val_loss'])), hist['val_loss'], '-', color = colors[i], label=labels[i])\n",
        "        \n",
        "    ax[0].set_title('Evaluation Loss')\n",
        "    ax[0].set_xlabel('Epochs')\n",
        "    ax[0].set_ylabel('Loss')\n",
        "    ax[0].legend()\n",
        "    \n",
        "    for i, hist in enumerate(hist_list):\n",
        "        ax[1].plot(range(len(hist['val_acc'])), hist['val_acc'], '-', color = colors[i], label=labels[i])\n",
        "        \n",
        "\n",
        "    ax[1].set_title('Evaluation Acc.')\n",
        "    ax[1].set_xlabel('Epochs')\n",
        "    ax[1].set_ylabel('Acc.')\n",
        "    ax[1].legend()\n",
        "   \n",
        "    plt.show()"
      ]
    },
    {
      "cell_type": "markdown",
      "metadata": {
        "id": "N9eAIf3xqjHO"
      },
      "source": [
        "#### Train model"
      ]
    },
    {
      "cell_type": "code",
      "execution_count": null,
      "metadata": {
        "id": "8tcr14g6qjHP"
      },
      "outputs": [],
      "source": [
        "device = torch.device(\"cuda\" if torch.cuda.is_available() else \"cpu\")"
      ]
    },
    {
      "cell_type": "code",
      "execution_count": null,
      "metadata": {
        "id": "s4dFAxqQqjHQ"
      },
      "outputs": [],
      "source": [
        "emb_dim = 100\n",
        "hidden_units = emb_dim\n",
        "num_layers = 1\n",
        "bidirectional = True\n",
        "num_classes = 6\n",
        "vocab_size = 10000"
      ]
    },
    {
      "cell_type": "code",
      "execution_count": null,
      "metadata": {
        "id": "QUaH39YrqjHV",
        "outputId": "3ddfc5cf-e365-4153-8222-7ebd4144f2b7"
      },
      "outputs": [
        {
          "name": "stdout",
          "output_type": "stream",
          "text": [
            "rnn_text(\n",
            "  (embedding): Embedding(10000, 100)\n",
            "  (rnn): LSTM(100, 100, batch_first=True, bidirectional=True)\n",
            "  (fc): Linear(in_features=400, out_features=6, bias=True)\n",
            "  (dropout): Dropout(p=0.5, inplace=False)\n",
            ")\n",
            "Training Start\n",
            "Epoch:1 / 100, train loss:1.1766,        train_acc:0.5480, valid loss:0.7642 valid acc:0.7395\n",
            "model saved!\n",
            "Epoch:2 / 100, train loss:0.4544,        train_acc:0.8539, valid loss:0.4733 valid acc:0.8594\n",
            "model saved!\n",
            "Epoch:3 / 100, train loss:0.1872,        train_acc:0.9538, valid loss:0.3779 valid acc:0.8883\n",
            "model saved!\n",
            "Epoch:4 / 100, train loss:0.1097,        train_acc:0.9720, valid loss:0.3838 valid acc:0.8947\n",
            "model saved!\n",
            "Epoch:5 / 100, train loss:0.0797,        train_acc:0.9786, valid loss:0.4258 valid acc:0.8910\n",
            "Epoch:6 / 100, train loss:0.0745,        train_acc:0.9795, valid loss:0.4664 valid acc:0.8835\n",
            "Epoch:7 / 100, train loss:0.0555,        train_acc:0.9834, valid loss:0.4124 valid acc:0.8943\n",
            "Epoch:8 / 100, train loss:0.0517,        train_acc:0.9846, valid loss:0.4101 valid acc:0.8939\n",
            "Epoch:9 / 100, train loss:0.0626,        train_acc:0.9818, valid loss:0.3949 valid acc:0.8996\n",
            "model saved!\n",
            "Epoch:10 / 100, train loss:0.0388,        train_acc:0.9885, valid loss:0.4303 valid acc:0.9013\n",
            "model saved!\n",
            "Epoch:11 / 100, train loss:0.0345,        train_acc:0.9900, valid loss:0.4049 valid acc:0.9029\n",
            "model saved!\n",
            "Epoch:12 / 100, train loss:0.0288,        train_acc:0.9908, valid loss:0.4529 valid acc:0.8993\n",
            "Epoch:13 / 100, train loss:0.0335,        train_acc:0.9897, valid loss:0.4898 valid acc:0.8857\n",
            "Epoch:14 / 100, train loss:0.0305,        train_acc:0.9911, valid loss:0.5304 valid acc:0.8873\n",
            "Epoch:15 / 100, train loss:0.0427,        train_acc:0.9880, valid loss:0.4455 valid acc:0.9033\n",
            "model saved!\n",
            "Epoch:16 / 100, train loss:0.0255,        train_acc:0.9926, valid loss:0.4710 valid acc:0.8989\n",
            "Epoch:17 / 100, train loss:0.0215,        train_acc:0.9938, valid loss:0.4978 valid acc:0.8980\n",
            "Epoch:18 / 100, train loss:0.0215,        train_acc:0.9934, valid loss:0.4873 valid acc:0.8947\n",
            "Epoch:19 / 100, train loss:0.0271,        train_acc:0.9918, valid loss:0.6013 valid acc:0.8881\n",
            "Epoch:20 / 100, train loss:0.0248,        train_acc:0.9925, valid loss:0.4702 valid acc:0.9034\n",
            "model saved!\n",
            "Epoch:21 / 100, train loss:0.0230,        train_acc:0.9926, valid loss:0.5250 valid acc:0.8973\n",
            "Epoch:22 / 100, train loss:0.0201,        train_acc:0.9940, valid loss:0.4912 valid acc:0.8983\n",
            "Epoch:23 / 100, train loss:0.0165,        train_acc:0.9952, valid loss:0.4833 valid acc:0.8977\n",
            "Epoch:24 / 100, train loss:0.0196,        train_acc:0.9946, valid loss:0.5735 valid acc:0.8909\n",
            "Epoch:25 / 100, train loss:0.0352,        train_acc:0.9896, valid loss:0.5012 valid acc:0.9026\n",
            "Epoch:26 / 100, train loss:0.0162,        train_acc:0.9948, valid loss:0.5048 valid acc:0.9033\n",
            "Epoch:27 / 100, train loss:0.0135,        train_acc:0.9957, valid loss:0.5294 valid acc:0.9000\n",
            "Epoch:28 / 100, train loss:0.0148,        train_acc:0.9955, valid loss:0.5346 valid acc:0.8999\n",
            "Epoch:29 / 100, train loss:0.0214,        train_acc:0.9934, valid loss:0.5317 valid acc:0.9022\n",
            "Epoch:30 / 100, train loss:0.0152,        train_acc:0.9954, valid loss:0.5461 valid acc:0.9009\n",
            "early stopping!\n"
          ]
        }
      ],
      "source": [
        "# Case C: Use word vectors and allow fine tuning\n",
        "\n",
        "model_rnn = rnn_text(vocab_size = vocab_size , emb_dim = emb_dim, \n",
        "                       num_classes = num_classes, hidden_units = hidden_units , \\\n",
        "                       num_layers = num_layers,  bidirectional =  True, \\\n",
        "                       emb_weight =  emb_matrix, freeze = False, dropout_rate = 0.5)\n",
        "                  \n",
        "print(model_rnn)\n",
        "\n",
        "optimizer = torch.optim.Adam(model_rnn.parameters(), lr=0.0005)\n",
        "\n",
        "model_rnn, hist_rnn = train_model(model_rnn, train_dataset, eval_dataset, \\\n",
        "                           device, optimizer, epochs=100)\n",
        "\n"
      ]
    },
    {
      "cell_type": "code",
      "execution_count": null,
      "metadata": {
        "id": "pfjrhYYkqjHW",
        "outputId": "c13ee939-5a1f-45e7-cf1f-1f9c85447e2b"
      },
      "outputs": [
        {
          "name": "stdout",
          "output_type": "stream",
          "text": [
            "              precision    recall  f1-score   support\n",
            "\n",
            "           0       0.87      0.84      0.86       394\n",
            "           1       0.94      0.90      0.92      1180\n",
            "           2       0.86      0.91      0.89       479\n",
            "           3       0.79      0.71      0.75       129\n",
            "           4       0.92      0.95      0.94      1027\n",
            "           5       0.77      0.82      0.79       250\n",
            "\n",
            "    accuracy                           0.90      3459\n",
            "   macro avg       0.86      0.86      0.86      3459\n",
            "weighted avg       0.90      0.90      0.90      3459\n",
            "\n",
            "Test acc: 0.8977\n"
          ]
        }
      ],
      "source": [
        "test_acc_rnn = test_model(model_rnn, test_dataset)"
      ]
    },
    {
      "cell_type": "markdown",
      "metadata": {
        "id": "iUVj-s01qjHX"
      },
      "source": [
        "### RNN + CNN Model"
      ]
    },
    {
      "cell_type": "markdown",
      "metadata": {
        "id": "xFMZuGppqjHY"
      },
      "source": [
        "#### Model Definition"
      ]
    },
    {
      "cell_type": "code",
      "execution_count": null,
      "metadata": {
        "id": "yiqvexuUqjHZ"
      },
      "outputs": [],
      "source": [
        "class rnn_cnn_text(nn.Module):\n",
        "\n",
        "    # define all the layers used in model\n",
        "    def __init__(self, vocab_size, emb_dim, num_classes, \n",
        "                 num_filters,  kernel_sizes,\n",
        "                 hidden_units , num_layers = 1,  bidirectional = False, \\\n",
        "                 emb_weight = None, freeze = False, dropout_rate = 0.5):\n",
        "      \n",
        "        super(rnn_cnn_text, self).__init__()\n",
        "        \n",
        "        self.emb_dim = emb_dim\n",
        "        \n",
        "        self.num_filters = num_filters\n",
        "        self.kernel_sizes = kernel_sizes\n",
        "        self.num_layers = num_layers\n",
        "        self.hidden_units = hidden_units\n",
        "        self.bidirectional = bidirectional\n",
        "        self.num_classes = num_classes\n",
        "       \n",
        "        if emb_weight is None:      \n",
        "            self.embedding = nn.Embedding(vocab_size, emb_dim, padding_idx = 0)\n",
        "        else:\n",
        "            self.embedding = nn.Embedding.from_pretrained(emb_weight, freeze=freeze)\n",
        "        \n",
        "        self.rnn = nn.LSTM(input_size = self.emb_dim, hidden_size = self.hidden_units,\\\n",
        "                           num_layers = self.num_layers, \\\n",
        "                           bidirectional = self.bidirectional,\\\n",
        "                           batch_first = True,\\\n",
        "                           #dropout = dropout_rate\n",
        "                          )\n",
        "        \n",
        "        feature_size = self.hidden_units \n",
        "        \n",
        "        if self.bidirectional:\n",
        "            feature_size = self.hidden_units * 2\n",
        "        \n",
        "        self.convs = nn.ModuleList([nn.Conv1d(feature_size, self.num_filters, f) for f in self.kernel_sizes])\n",
        "        \n",
        "            \n",
        "        self.fc = nn.Linear(len(kernel_sizes)*self.num_filters, self.num_classes)\n",
        "        self.dropout = nn.Dropout(dropout_rate)\n",
        "\n",
        "    def forward(self, x):\n",
        "        \n",
        "        x = self.embedding(x) # Batch x sent_len x emb_dim\n",
        "        \n",
        "        x, _ = self.rnn(x)  # batch, seq_len, features (self.hidden_units*(2 if self.bidirectional else 1))\n",
        "        \n",
        "        x = torch.swapaxes(x, 1, 2) # Batch x max_sent x features\n",
        "        \n",
        "        x = [F.relu(conv(x)) for conv in self.convs]  # output of three conv, batch x num_filter x L\n",
        "\n",
        "        x = [F.max_pool1d(i, i.size(2)).squeeze(2) for i in x] # continue with 3 maxpooling\n",
        "\n",
        "        x = torch.cat(x, 1)\n",
        "\n",
        "        x = self.dropout(x)\n",
        "        \n",
        "        logit = self.fc(x)  \n",
        "\n",
        "        return logit"
      ]
    },
    {
      "cell_type": "code",
      "execution_count": null,
      "metadata": {
        "id": "uKuEyCyWqjHa"
      },
      "outputs": [],
      "source": [
        "emb_dim = 100\n",
        "hidden_units = emb_dim\n",
        "num_layers = 1\n",
        "bidirectional = True\n",
        "num_classes = 6\n",
        "vocab_size = 10000\n",
        "num_filters = 30\n",
        "kernel_sizes = [1,3,5]"
      ]
    },
    {
      "cell_type": "markdown",
      "metadata": {
        "id": "bIGkEGdEqjHa"
      },
      "source": [
        "#### Train Model"
      ]
    },
    {
      "cell_type": "code",
      "execution_count": null,
      "metadata": {
        "id": "-rz_GG9XqjHb",
        "outputId": "99cb7d53-0a7b-490b-fda8-41f40b443cf0"
      },
      "outputs": [
        {
          "name": "stdout",
          "output_type": "stream",
          "text": [
            "rnn_cnn_text(\n",
            "  (embedding): Embedding(10000, 100)\n",
            "  (rnn): LSTM(100, 100, batch_first=True, bidirectional=True)\n",
            "  (convs): ModuleList(\n",
            "    (0): Conv1d(200, 30, kernel_size=(1,), stride=(1,))\n",
            "    (1): Conv1d(200, 30, kernel_size=(3,), stride=(1,))\n",
            "    (2): Conv1d(200, 30, kernel_size=(5,), stride=(1,))\n",
            "  )\n",
            "  (fc): Linear(in_features=90, out_features=6, bias=True)\n",
            "  (dropout): Dropout(p=0.5, inplace=False)\n",
            ")\n",
            "Training Start\n",
            "Epoch:1 / 100, train loss:0.7014,        train_acc:0.7514, valid loss:0.2683 valid acc:0.9108\n",
            "model saved!\n",
            "Epoch:2 / 100, train loss:0.1019,        train_acc:0.9702, valid loss:0.2802 valid acc:0.9123\n",
            "model saved!\n",
            "Epoch:3 / 100, train loss:0.0632,        train_acc:0.9794, valid loss:0.3269 valid acc:0.9090\n",
            "Epoch:4 / 100, train loss:0.0515,        train_acc:0.9834, valid loss:0.2856 valid acc:0.9119\n",
            "Epoch:5 / 100, train loss:0.0423,        train_acc:0.9863, valid loss:0.3262 valid acc:0.9119\n",
            "Epoch:6 / 100, train loss:0.0394,        train_acc:0.9872, valid loss:0.3555 valid acc:0.9153\n",
            "model saved!\n",
            "Epoch:7 / 100, train loss:0.0333,        train_acc:0.9883, valid loss:0.3441 valid acc:0.9110\n",
            "Epoch:8 / 100, train loss:0.0285,        train_acc:0.9898, valid loss:0.3166 valid acc:0.9167\n",
            "model saved!\n",
            "Epoch:9 / 100, train loss:0.0267,        train_acc:0.9915, valid loss:0.4211 valid acc:0.9086\n",
            "Epoch:10 / 100, train loss:0.0245,        train_acc:0.9915, valid loss:0.4024 valid acc:0.9033\n",
            "Epoch:11 / 100, train loss:0.0225,        train_acc:0.9919, valid loss:0.3955 valid acc:0.9097\n",
            "Epoch:12 / 100, train loss:0.0204,        train_acc:0.9931, valid loss:0.4126 valid acc:0.9167\n",
            "Epoch:13 / 100, train loss:0.0217,        train_acc:0.9932, valid loss:0.4044 valid acc:0.9114\n",
            "Epoch:14 / 100, train loss:0.0196,        train_acc:0.9936, valid loss:0.3883 valid acc:0.9140\n",
            "Epoch:15 / 100, train loss:0.0212,        train_acc:0.9932, valid loss:0.4360 valid acc:0.9060\n",
            "Epoch:16 / 100, train loss:0.0204,        train_acc:0.9928, valid loss:0.4022 valid acc:0.9124\n",
            "Epoch:17 / 100, train loss:0.0164,        train_acc:0.9940, valid loss:0.3766 valid acc:0.9133\n",
            "Epoch:18 / 100, train loss:0.0130,        train_acc:0.9951, valid loss:0.3757 valid acc:0.9177\n",
            "model saved!\n",
            "Epoch:19 / 100, train loss:0.0153,        train_acc:0.9947, valid loss:0.4349 valid acc:0.9113\n",
            "Epoch:20 / 100, train loss:0.0150,        train_acc:0.9953, valid loss:0.4065 valid acc:0.9137\n",
            "Epoch:21 / 100, train loss:0.0127,        train_acc:0.9959, valid loss:0.4592 valid acc:0.9167\n",
            "Epoch:22 / 100, train loss:0.0124,        train_acc:0.9957, valid loss:0.4952 valid acc:0.9120\n",
            "Epoch:23 / 100, train loss:0.0192,        train_acc:0.9939, valid loss:0.3910 valid acc:0.9234\n",
            "model saved!\n",
            "Epoch:24 / 100, train loss:0.0116,        train_acc:0.9960, valid loss:0.4412 valid acc:0.9157\n",
            "Epoch:25 / 100, train loss:0.0106,        train_acc:0.9963, valid loss:0.4449 valid acc:0.9129\n",
            "Epoch:26 / 100, train loss:0.0141,        train_acc:0.9957, valid loss:0.4649 valid acc:0.9086\n",
            "Epoch:27 / 100, train loss:0.0098,        train_acc:0.9967, valid loss:0.4566 valid acc:0.9143\n",
            "Epoch:28 / 100, train loss:0.0132,        train_acc:0.9950, valid loss:0.4543 valid acc:0.9173\n",
            "Epoch:29 / 100, train loss:0.0097,        train_acc:0.9965, valid loss:0.4766 valid acc:0.9140\n",
            "Epoch:30 / 100, train loss:0.0111,        train_acc:0.9959, valid loss:0.4951 valid acc:0.9130\n",
            "Epoch:31 / 100, train loss:0.0092,        train_acc:0.9963, valid loss:0.4971 valid acc:0.9160\n",
            "Epoch:32 / 100, train loss:0.0082,        train_acc:0.9970, valid loss:0.4664 valid acc:0.9117\n",
            "Epoch:33 / 100, train loss:0.0096,        train_acc:0.9961, valid loss:0.4728 valid acc:0.9203\n",
            "early stopping!\n"
          ]
        }
      ],
      "source": [
        "model_rnn_cnn = rnn_cnn_text(vocab_size = vocab_size , emb_dim = emb_dim, \n",
        "                       num_filters = num_filters,  kernel_sizes = kernel_sizes,\n",
        "                       num_classes = num_classes, hidden_units = hidden_units , \\\n",
        "                       num_layers = num_layers,  bidirectional =  True, \\\n",
        "                       emb_weight =  emb_matrix, freeze = False, dropout_rate = 0.5)\n",
        "                  \n",
        "print(model_rnn_cnn)\n",
        "\n",
        "optimizer = torch.optim.Adam(model_rnn_cnn.parameters(), lr=0.0005)\n",
        "\n",
        "model_rnn_cnn, hist_rnn_cnn = train_model(model_rnn_cnn, train_dataset, eval_dataset, \\\n",
        "                           device, optimizer, epochs=100)\n",
        "\n"
      ]
    },
    {
      "cell_type": "code",
      "execution_count": null,
      "metadata": {
        "id": "9_JEOQ_4qjHc",
        "outputId": "546c0718-7500-4460-ebdd-bac30e3ea455"
      },
      "outputs": [
        {
          "name": "stdout",
          "output_type": "stream",
          "text": [
            "              precision    recall  f1-score   support\n",
            "\n",
            "           0       0.89      0.88      0.89       394\n",
            "           1       0.94      0.93      0.93      1180\n",
            "           2       0.90      0.93      0.92       479\n",
            "           3       0.85      0.74      0.79       129\n",
            "           4       0.95      0.96      0.95      1027\n",
            "           5       0.79      0.83      0.81       250\n",
            "\n",
            "    accuracy                           0.92      3459\n",
            "   macro avg       0.89      0.88      0.88      3459\n",
            "weighted avg       0.92      0.92      0.92      3459\n",
            "\n",
            "Test acc: 0.9167\n"
          ]
        }
      ],
      "source": [
        "test_acc_rnn_cnn = test_model(model_rnn_cnn, test_dataset)"
      ]
    },
    {
      "cell_type": "code",
      "execution_count": null,
      "metadata": {
        "id": "u6o1VLYNqjHc",
        "outputId": "2620ebdf-6b64-4027-e999-c95868b05c35"
      },
      "outputs": [
        {
          "name": "stdout",
          "output_type": "stream",
          "text": [
            "Test acc: RNN: 0.898, RNN + CNN: 0.917\n"
          ]
        },
        {
          "data": {
            "image/png": "[encoded data removed]",
            "text/plain": [
              "<Figure size 1152x288 with 2 Axes>"
            ]
          },
          "metadata": {
            "needs_background": "light"
          },
          "output_type": "display_data"
        }
      ],
      "source": [
        "print(f\"Test acc: RNN: {test_acc_rnn:.3f}, RNN + CNN: {test_acc_rnn_cnn:.3f}\")\n",
        "\n",
        "get_plot([hist_rnn, hist_rnn_cnn], [\"RNN\",'RNN + CNN'], len(hist_rnn['val_loss']))"
      ]
    },
    {
      "cell_type": "code",
      "execution_count": null,
      "metadata": {
        "id": "YqlfIrKMqjHv"
      },
      "outputs": [],
      "source": [
        ""
      ]
    }
  ],
  "metadata": {
    "kernelspec": {
      "display_name": "Python 3 (ipykernel)",
      "language": "python",
      "name": "python3"
    },
    "language_info": {
      "codemirror_mode": {
        "name": "ipython",
        "version": 3
      },
      "file_extension": ".py",
      "mimetype": "text/x-python",
      "name": "python",
      "nbconvert_exporter": "python",
      "pygments_lexer": "ipython3",
      "version": "3.9.7"
    },
    "toc-autonumbering": false,
    "toc-showcode": false,
    "colab": {
      "name": "RNN-Text Classification.ipynb",
      "provenance": []
    }
  },
  "nbformat": 4,
  "nbformat_minor": 0
}