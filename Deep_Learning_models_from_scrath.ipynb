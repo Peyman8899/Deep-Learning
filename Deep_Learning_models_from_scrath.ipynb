{
  "cells": [
    {
      "cell_type": "markdown",
      "metadata": {
        "id": "3C0xJcYexAVK"
      },
      "source": [
        "## Deep Learning models from scrath"
      ]
    },
    {
      "cell_type": "code",
      "execution_count": null,
      "metadata": {
        "id": "6BS_fC6nxAVa"
      },
      "outputs": [],
      "source": [
        "import numpy as np\n",
        "from matplotlib import pyplot as plt"
      ]
    },
    {
      "cell_type": "code",
      "execution_count": null,
      "metadata": {
        "id": "d4qky9RZxAVc"
      },
      "outputs": [],
      "source": [
        "def dL_du2(L, y, u2, z2, fun = 'cross_entropy'):\n",
        "    \n",
        "    if fun == 'cross_entropy':\n",
        "        return z2-y\n",
        "    \n",
        "    elif fun == 'mse':\n",
        "        return z2*(1-z2)*(z2-y)\n",
        "    \n",
        "def du2_dz1(A2):\n",
        "    g = A2\n",
        "    return g[None, :]\n",
        "\n",
        "def du2_dA2(u2, z1, A2):\n",
        "    \n",
        "    # make Jacobian tensor with all 0s    \n",
        "    g = np.zeros((1,) + A2.shape)\n",
        "    g[0] = z1\n",
        "    return g\n",
        "\n",
        "def du2_db2(u2, b2):\n",
        "    \n",
        "    return 1    \n",
        "\n",
        "def dz1_du1(z1, u1, fun = 'relu'):\n",
        "    \n",
        "    g = np.zeros(z1.shape + u1.shape) \n",
        "    \n",
        "    if fun == 'relu':\n",
        "        np.fill_diagonal(g, np.where(u1>0, 1, 0))\n",
        "        \n",
        "    elif fun=='tanh':\n",
        "        np.fill_diagonal(g, 1-z1*z1)\n",
        "    \n",
        "    return g\n",
        "\n",
        "def du1_dA1(u1, x, A1):\n",
        "    \n",
        "    # make Jacobian tensor with all 0s\n",
        "    g = np.zeros(u1.shape + A1.shape)\n",
        "    \n",
        "    # set the gradient values\n",
        "    for i, _ in enumerate(u1):\n",
        "        g[i,i] = x\n",
        "        \n",
        "    return g\n",
        "\n",
        "def du1_db1(u1, b1):\n",
        "    g = np.eye(u1.shape[0])   \n",
        "    return g"
      ]
    },
    {
      "cell_type": "code",
      "execution_count": null,
      "metadata": {
        "id": "zJPPMcmqxAVe"
      },
      "outputs": [],
      "source": [
        "def forward(A1, A2, b1, b2, x, y, act_fun = 'relu', loss_fun = 'cross_entropy'):\n",
        "    \n",
        "    u1 = x.dot(A1.T) + b1  # x: N x 2 , A1: 3X2\n",
        "    \n",
        "    if act_fun == 'relu':\n",
        "        z1 = np.where(u1>0, u1, 0)  # N x 3\n",
        "        \n",
        "    elif act_fun == 'tanh':\n",
        "        z1 = np.tanh(u1)\n",
        "        \n",
        "    u2 = z1.dot(A2.T) + b2   # z1: N x 3 , A2: 3\n",
        "    \n",
        "    z2 = 1/(1+np.exp(-u2))\n",
        "    \n",
        "    if loss_fun == 'cross_entropy':\n",
        "        loss = np.mean(- y*np.log(z2) - (1-y)*np.log(1-z2))\n",
        "        \n",
        "    elif loss_fun == 'mse':\n",
        "        loss = 0.5*np.mean(np.square(y-z2))\n",
        "                   \n",
        "    return u1, z1, u2, z2, loss              "
      ]
    },
    {
      "cell_type": "code",
      "execution_count": null,
      "metadata": {
        "id": "yR5F4dgjxAVf"
      },
      "outputs": [],
      "source": [
        "def backpropagate(L, x, y, u1, u2, z1, z2, \\\n",
        "                  A1, A2, b1, b2, \\\n",
        "                  act_fun = 'relu', \\\n",
        "                  loss_fun = 'cross_entropy'):\n",
        "    \n",
        "    \n",
        "    d_u2 = dL_du2(L, y, u2, z2, loss_fun)\n",
        "    d_z1 = du2_dz1(A2)\n",
        "    d_a2 = du2_dA2(u2, z1, A2)   \n",
        "    d_b2 = du2_db2(u2, b2)\n",
        "\n",
        "    d_u1 = dz1_du1(z1, u1, act_fun)\n",
        "    d_a1 = du1_dA1(u1, x, A1)\n",
        "    d_b1 = du1_db1(u1, b1)\n",
        "\n",
        "    g_A2 = d_u2 * d_a2\n",
        "    g_b2 = d_u2 * d_b2\n",
        "\n",
        "    g_A1 = d_u2 * d_z1.dot(d_u1).dot(d_a1)\n",
        "    g_b1 = d_u2 * d_z1.dot(d_u1).dot(d_b1)\n",
        "    \n",
        "    return g_A1, g_b1, g_A2, g_b2"
      ]
    },
    {
      "cell_type": "code",
      "execution_count": null,
      "metadata": {
        "id": "wvJm7G1_xAVg"
      },
      "outputs": [],
      "source": [
        "def gradient_desc(v, g, lam):\n",
        "    return v-lam*g"
      ]
    },
    {
      "cell_type": "code",
      "execution_count": null,
      "metadata": {
        "id": "86CUuuCoxAVh"
      },
      "outputs": [],
      "source": [
        "def train(x, y, A1, A2, b1, b2, \\\n",
        "          lam = 0.001, act_fun = 'relu', \\\n",
        "          loss_fun = 'cross_entropy', \\\n",
        "          epoch = 100):\n",
        "    \n",
        "    loss_hist = []  \n",
        "    pred_hist = []\n",
        "\n",
        "    for i in range(epoch):\n",
        "    \n",
        "        u1, z1, u2, z2, loss = forward(A1, A2, b1, b2, x, y, act_fun , loss_fun )\n",
        "        \n",
        "        loss_hist.append(loss)\n",
        "        pred_hist.append(z2)\n",
        "            \n",
        "        g_A1, g_b1, g_A2, g_b2 = backpropagate(loss, x, y, u1, u2, z1, z2, A1, A2, b1, b2, act_fun, loss_fun)\n",
        "        \n",
        "        A1 = gradient_desc(A1, g_A1.squeeze(), lam)\n",
        "        b1 = gradient_desc(b1, g_b1.squeeze(), lam)\n",
        "        A2 = gradient_desc(A2, g_A2.squeeze(), lam)\n",
        "        b2 = gradient_desc(b2, g_b2, lam)\n",
        "       \n",
        "        #print(\"gradients: \\n\", G_A1, G_A1.shape, \"\\n\\n\",G_b1,G_b1.shape, \"\\n\\n\", G_A2,G_A2.shape, \"\\n\\n\",G_b2)\n",
        "        #print(\"parameters: \\n\",A1, A1.shape, \"\\n\\n\", b1, b1.shape, \"\\n\\n\", A2, A2.shape, \"\\n\\n\",b2)\n",
        "        #print(\"metrics: \\n\",acc_hist, loss_hist)\n",
        "              \n",
        "    return A1, b1, A2, b2, loss_hist, pred_hist"
      ]
    },
    {
      "cell_type": "markdown",
      "metadata": {
        "id": "exyUD2nyxAVh"
      },
      "source": [
        "6. (0.5 point) Test your your `forward` and `backpropagate` functions as follows:\n",
        "    - Initial parameter values and the training sample are set as follows: \n",
        "        - `A1 = [[-2,1],[2, -2],[-1, 5]], b1 = [3, -1, 2]`\n",
        "        - `A2 = [1, -2, 2], b2 = 0`\n",
        "        - `x = [0.465, 0.178], y = 0`\n",
        "   \n",
        "    - Call your `forward` and `backpropagate` functions under two cases:\n",
        "        1. `act_fun = 'relu', loss_fun = 'cross_entropy'`\n",
        "        1. `act_fun = 'tanh', loss_fun = 'mse'`\n",
        "        \n",
        "    - Carefully check the obtained `u1, z1, u2, z2, L` and the values of gradients $\\frac{\\partial{L}}{\\partial{A^{(1)}}}, \\frac{\\partial{L}}{\\partial{A^{(2)}}}, \\frac{\\partial{L}}{\\partial{b^{(1)}}}, \\frac{\\partial{L}}{\\partial{b^{(2)}}}$ to make sure they are correct."
      ]
    },
    {
      "cell_type": "code",
      "execution_count": null,
      "metadata": {
        "id": "QaZBBq0KxAVi"
      },
      "outputs": [],
      "source": [
        "A1 = np.array([[-2,1],[2, -2],[-1, 5]])\n",
        "A2 = np.array([1, -2, 2])\n",
        "b1 = np.array([3, -1, 2])\n",
        "b2 = 0\n",
        "x = np.array([0.465, 0.178])\n",
        "y = 0"
      ]
    },
    {
      "cell_type": "code",
      "execution_count": null,
      "metadata": {
        "id": "jO9E9eaYxAVi",
        "outputId": "0d2158b2-3502-486e-8296-0ded5b057731"
      },
      "outputs": [
        {
          "name": "stdout",
          "output_type": "stream",
          "text": [
            "\n",
            "u1 :\n",
            " [ 2.248 -0.426  2.425]\n",
            "\n",
            "z1 :\n",
            " [2.248 0.    2.425]\n",
            "\n",
            "u2 :\n",
            " 7.098\n",
            "\n",
            "z2 :\n",
            " 0.9991739261777141\n",
            "\n",
            "loss :\n",
            " 7.0988264152093095\n",
            "\n",
            "gradient g_A1:\n",
            " [[[0.46461588 0.17785296]\n",
            "  [0.         0.        ]\n",
            "  [0.92923175 0.35570592]]]\n",
            "\n",
            "gradient g_b1 :\n",
            " [[0.99917393 0.         1.99834785]]\n",
            "\n",
            "gradient g_A2 :\n",
            " [[2.24614299 0.         2.42299677]]\n",
            "\n",
            "gradient g_b2 :\n",
            " 0.9991739261777141\n"
          ]
        }
      ],
      "source": [
        "act_fun = 'relu'\n",
        "loss_fun = 'cross_entropy'\n",
        "u1, z1, u2, z2, L = forward(A1, A2, b1, b2, x, y, act_fun , loss_fun )\n",
        "\n",
        "print(\"\\nu1 :\\n\", u1)\n",
        "print(\"\\nz1 :\\n\", z1)\n",
        "print(\"\\nu2 :\\n\", u2)\n",
        "print(\"\\nz2 :\\n\", z2)\n",
        "print(\"\\nloss :\\n\", L)\n",
        "\n",
        "\n",
        "g_A1, g_b1, g_A2, g_b2 = backpropagate(L, x, y, u1, u2, z1, z2, A1, A2, b1, b2, act_fun, loss_fun)\n",
        "\n",
        "print(\"\\ngradient g_A1:\\n\", g_A1)\n",
        "print(\"\\ngradient g_b1 :\\n\", g_b1)\n",
        "print(\"\\ngradient g_A2 :\\n\", g_A2)\n",
        "print(\"\\ngradient g_b2 :\\n\", g_b2)\n"
      ]
    },
    {
      "cell_type": "code",
      "execution_count": null,
      "metadata": {
        "id": "3IR6ZiRAxAVk",
        "outputId": "8440dee5-543d-4f26-a9e1-e4e9c227525f"
      },
      "outputs": [
        {
          "name": "stdout",
          "output_type": "stream",
          "text": [
            "\n",
            "u1 :\n",
            " [ 2.248 -0.426  2.425]\n",
            "\n",
            "z1 :\n",
            " [ 0.97793901 -0.40197304  0.98446486]\n",
            "\n",
            "u2 :\n",
            " 3.7508148133339616\n",
            "\n",
            "z2 :\n",
            " 0.9770409150607987\n",
            "\n",
            "loss :\n",
            " 0.4773044748514214\n",
            "\n",
            "gradient g_A1:\n",
            " [[[ 0.0004447   0.00017023]\n",
            "  [-0.01708927 -0.0065417 ]\n",
            "  [ 0.00062838  0.00024054]]]\n",
            "\n",
            "gradient g_b1 :\n",
            " [[ 0.00095635 -0.03675111  0.00135135]]\n",
            "\n",
            "gradient g_A2 :\n",
            " [[ 0.02143344 -0.00881002  0.02157647]]\n",
            "\n",
            "gradient g_b2 :\n",
            " 0.0219169479599493\n"
          ]
        }
      ],
      "source": [
        "act_fun = 'tanh'\n",
        "loss_fun = 'mse'\n",
        "\n",
        "u1, z1, u2, z2, L = forward(A1, A2, b1, b2, x, y, act_fun , loss_fun )\n",
        "\n",
        "print(\"\\nu1 :\\n\", u1)\n",
        "print(\"\\nz1 :\\n\", z1)\n",
        "print(\"\\nu2 :\\n\", u2)\n",
        "print(\"\\nz2 :\\n\", z2)\n",
        "print(\"\\nloss :\\n\", L)\n",
        "\n",
        "\n",
        "g_A1, g_b1, g_A2, g_b2 = backpropagate(L, x, y, u1, u2, z1, z2, A1, A2, b1, b2, act_fun, loss_fun)\n",
        "\n",
        "print(\"\\ngradient g_A1:\\n\", g_A1)\n",
        "print(\"\\ngradient g_b1 :\\n\", g_b1)\n",
        "print(\"\\ngradient g_A2 :\\n\", g_A2)\n",
        "print(\"\\ngradient g_b2 :\\n\", g_b2)"
      ]
    },
    {
      "cell_type": "markdown",
      "metadata": {
        "id": "UfZiO7Y1xAVl"
      },
      "source": [
        "7. (1 point) Put everything together: with the same initial parameter values and training instance as in Q6, train your model for 300 epochs with a learning rate of 0.01 under 4 cases:\n",
        "    1. $f$ = `relu` and $g$ = `cross_entropy`\n",
        "    1. $f$ = `relu` and $g$ = `mse`\n",
        "    1. $f$ = `tanh` and $g$ = `cross_entropy`\n",
        "    1. $f$ = `tanh` and $g$ = `mse`\n",
        "\n",
        "\n",
        "Plot the loss and $z^{(2)}$ obtained in each epoch as a line chart. An example is shown below."
      ]
    },
    {
      "cell_type": "code",
      "execution_count": null,
      "metadata": {
        "id": "EnqRHGp7xAVl"
      },
      "outputs": [],
      "source": [
        "A1 = np.array([[-2,1],[2, -2],[-1, 5]])\n",
        "A2 = np.array([1, -2, 2])\n",
        "b1 = np.array([3, -1, 2])\n",
        "b2 = 0\n",
        "x = np.array([0.465, 0.178])\n",
        "y = 0\n",
        "\n",
        "act_fun = 'relu'\n",
        "loss_fun = 'cross_entropy'\n",
        "epoch = 300\n",
        "lam = 0.01"
      ]
    },
    {
      "cell_type": "code",
      "execution_count": null,
      "metadata": {
        "id": "fPDiCo0wxAVm",
        "outputId": "b064e821-2ef8-44c6-f46a-69532eb41ad5"
      },
      "outputs": [
        {
          "data": {
            "image/png": "[encoded data removed]",
            "text/plain": [
              "<Figure size 720x216 with 2 Axes>"
            ]
          },
          "metadata": {
            "needs_background": "light"
          },
          "output_type": "display_data"
        }
      ],
      "source": [
        "from IPython.core.interactiveshell import InteractiveShell\n",
        "InteractiveShell.ast_node_interactivity = \"last\"\n",
        "\n",
        "_, _, _, _, loss_hist, pred_hist = train(x, y, A1, A2, b1, b2, lam, act_fun, loss_fun, epoch)\n",
        "\n",
        "f = plt.figure(figsize=(10,3))\n",
        "ax1 = f.add_subplot(121)\n",
        "ax2 = f.add_subplot(122)\n",
        "\n",
        "ax1.plot(range(len(loss_hist)), loss_hist, \"-\", label ='loss') \n",
        "ax1.set_title(\"loss\")\n",
        "ax1.set_ylim((0, 10))\n",
        "ax1.set_xlabel('epoch')\n",
        "\n",
        "ax2.plot(range(len(pred_hist)), pred_hist, \"-\", label =\"pred\")\n",
        "ax2.set_title(\"prediction\")\n",
        "ax2.set_ylim((0, 1.2))\n",
        "ax2.set_xlabel('epoch')\n",
        "\n",
        "plt.show()"
      ]
    },
    {
      "cell_type": "code",
      "execution_count": null,
      "metadata": {
        "id": "yRKXQRmMxAVm",
        "outputId": "54c4db3e-1618-4f8b-ed6b-d2905dfda979"
      },
      "outputs": [
        {
          "data": {
            "image/png": "[encoded data removed]",
            "text/plain": [
              "<Figure size 432x864 with 8 Axes>"
            ]
          },
          "metadata": {
            "needs_background": "light"
          },
          "output_type": "display_data"
        }
      ],
      "source": [
        "act_funs = ['relu','tanh']\n",
        "loss_funs = ['cross_entropy','mse']\n",
        "epoch = 300\n",
        "lam = 0.01\n",
        "\n",
        "f = plt.figure(figsize=(6,12))\n",
        "cnt = 1\n",
        "\n",
        "for act_fun in act_funs:\n",
        "    for loss_fun in loss_funs:\n",
        "        _, _, _, _, loss_hist, pred_hist = train(x, y, A1, A2, b1, b2, lam, act_fun, loss_fun, epoch)\n",
        "        \n",
        "        ax1 = f.add_subplot(4,2,cnt)        \n",
        "        ax2 = f.add_subplot(4,2,cnt+1)\n",
        "        \n",
        "        cnt +=2\n",
        "\n",
        "        ax1.plot(range(len(loss_hist)), loss_hist, \"-\", label ='loss') ;\n",
        "        ax1.set_title(act_fun + \" \" + loss_fun + \" loss\");\n",
        "        ax1.set_ylim((0, max(loss_hist)+0.1));\n",
        "        ax1.set_xlabel('epoch');\n",
        "\n",
        "        ax2.plot(range(len(pred_hist)), pred_hist, \"-\", label =\"pred\");\n",
        "        ax2.set_title(act_fun + \" \" + loss_fun + \" prediction\");\n",
        "        ax2.set_ylim((0, 1.1));\n",
        "        ax2.set_xlabel('epoch');\n",
        "\n",
        "plt.tight_layout()\n",
        "\n",
        "plt.show()"
      ]
    },
    {
      "cell_type": "code",
      "execution_count": null,
      "metadata": {
        "id": "ENshkRJVxAVq"
      },
      "outputs": [],
      "source": [
        ""
      ]
    }
  ],
  "metadata": {
    "kernelspec": {
      "display_name": "Python 3 (ipykernel)",
      "language": "python",
      "name": "python3"
    },
    "language_info": {
      "codemirror_mode": {
        "name": "ipython",
        "version": 3
      },
      "file_extension": ".py",
      "mimetype": "text/x-python",
      "name": "python",
      "nbconvert_exporter": "python",
      "pygments_lexer": "ipython3",
      "version": "3.9.7"
    },
    "latex_envs": {
      "LaTeX_envs_menu_present": true,
      "autoclose": false,
      "autocomplete": true,
      "bibliofile": "biblio.bib",
      "cite_by": "apalike",
      "current_citInitial": 1,
      "eqLabelWithNumbers": true,
      "eqNumInitial": 1,
      "hotkeys": {
        "equation": "Ctrl-E",
        "itemize": "Ctrl-I"
      },
      "labels_anchors": false,
      "latex_user_defs": false,
      "report_style_numbering": false,
      "user_envs_cfg": false
    },
    "toc": {
      "base_numbering": 1,
      "nav_menu": {},
      "number_sections": true,
      "sideBar": true,
      "skip_h1_title": false,
      "title_cell": "Table of Contents",
      "title_sidebar": "Contents",
      "toc_cell": true,
      "toc_position": {},
      "toc_section_display": true,
      "toc_window_display": false
    },
    "colab": {
      "name": "Deep Learning models from scrath.ipynb",
      "provenance": []
    }
  },
  "nbformat": 4,
  "nbformat_minor": 0
}